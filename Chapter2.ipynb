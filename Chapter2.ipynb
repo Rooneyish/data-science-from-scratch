{
 "cells": [
  {
   "cell_type": "markdown",
   "id": "aeee2fb4-0bf2-4271-bf57-a42b1dcedb3c",
   "metadata": {},
   "source": [
    "## Basics"
   ]
  },
  {
   "cell_type": "markdown",
   "id": "4b5d8f1f-a5f7-47f8-9cbb-5063895917e4",
   "metadata": {},
   "source": [
    "### Whitespace Formatting"
   ]
  },
  {
   "cell_type": "code",
   "execution_count": 8,
   "id": "95a561be-6ce5-4469-ae86-b93bbcb2cde0",
   "metadata": {},
   "outputs": [
    {
     "name": "stdout",
     "output_type": "stream",
     "text": [
      "1\n",
      "1\n",
      "2\n",
      "2\n",
      "3\n",
      "3\n",
      "4\n",
      "4\n",
      "5\n",
      "5\n",
      "6\n",
      "1\n",
      "2\n",
      "1\n",
      "3\n",
      "2\n",
      "4\n",
      "3\n",
      "5\n",
      "4\n",
      "6\n",
      "5\n",
      "7\n",
      "2\n",
      "3\n",
      "1\n",
      "4\n",
      "2\n",
      "5\n",
      "3\n",
      "6\n",
      "4\n",
      "7\n",
      "5\n",
      "8\n",
      "3\n",
      "4\n",
      "1\n",
      "5\n",
      "2\n",
      "6\n",
      "3\n",
      "7\n",
      "4\n",
      "8\n",
      "5\n",
      "9\n",
      "4\n",
      "5\n",
      "1\n",
      "6\n",
      "2\n",
      "7\n",
      "3\n",
      "8\n",
      "4\n",
      "9\n",
      "5\n",
      "10\n",
      "5\n",
      "done looping\n"
     ]
    }
   ],
   "source": [
    "for i in [1, 2, 3, 4, 5]:\n",
    "    print (i)\n",
    "    for j in [1, 2, 3, 4, 5]:\n",
    "        print (j)                 \n",
    "        print (i + j)             \n",
    "    print (i)\n",
    "print (\"done looping\")"
   ]
  },
  {
   "cell_type": "markdown",
   "id": "3623274d-1641-4a1c-9554-4d01564dfc74",
   "metadata": {},
   "source": [
    "##### Indentation is ignored inside parentheses and bracjets"
   ]
  },
  {
   "cell_type": "code",
   "execution_count": 12,
   "id": "6b05cf94-4f4e-495a-a5c0-1abb233c4264",
   "metadata": {},
   "outputs": [
    {
     "data": {
      "text/plain": [
       "210"
      ]
     },
     "execution_count": 12,
     "metadata": {},
     "output_type": "execute_result"
    }
   ],
   "source": [
    "long_winded_computation = (1 + 2 + 3 + 4 + 5 + 6 + 7 + 8 + 9 + 10 + 11 + 12 +\n",
    " 13 + 14 + 15 + 16 + 17 + 18 + 19 + 20)\n",
    "long_winded_computation"
   ]
  },
  {
   "cell_type": "code",
   "execution_count": 20,
   "id": "8481034d-347d-4ba8-9214-b75cb71ae2c0",
   "metadata": {},
   "outputs": [
    {
     "data": {
      "text/plain": [
       "[[1, 2, 3], [4, 5, 6], [7, 8, 9]]"
      ]
     },
     "execution_count": 20,
     "metadata": {},
     "output_type": "execute_result"
    }
   ],
   "source": [
    " list_of_lists = [[1, 2, 3], [4, 5, 6], [7, 8, 9]]\n",
    " easier_to_read_list_of_lists = [\n",
    "                                [1, 2, 3],\n",
    "                                [4, 5, 6],\n",
    "                                [7, 8, 9] ]\n",
    "list_of_lists\n",
    "easier_to_read_list_of_lists"
   ]
  },
  {
   "cell_type": "markdown",
   "id": "83119af3-0749-411e-87f1-9aed7849a7e8",
   "metadata": {},
   "source": [
    "##### Backslash is used to indicate that a statement continues onto the next line"
   ]
  },
  {
   "cell_type": "code",
   "execution_count": 24,
   "id": "e9644be3-62f5-4ae0-adec-d596870d7316",
   "metadata": {},
   "outputs": [
    {
     "data": {
      "text/plain": [
       "5"
      ]
     },
     "execution_count": 24,
     "metadata": {},
     "output_type": "execute_result"
    }
   ],
   "source": [
    "two_plus_three = 2 + \\\n",
    " 3\n",
    "two_plus_three"
   ]
  },
  {
   "cell_type": "markdown",
   "id": "599d5048-bc46-4ab3-b3b7-47a71ff83400",
   "metadata": {},
   "source": [
    "#### Note: One consequence of whitespace formatting is that it can be hard to copy and paste code into the Python shell. As you may get some INDENTATION ERROR"
   ]
  },
  {
   "cell_type": "markdown",
   "id": "4ce4a396-1491-4fc7-8512-23b312b293c4",
   "metadata": {
    "jp-MarkdownHeadingCollapsed": true
   },
   "source": [
    "### Modules"
   ]
  },
  {
   "cell_type": "code",
   "execution_count": 41,
   "id": "66783c25-7733-4280-88b6-d142a536b2d6",
   "metadata": {},
   "outputs": [
    {
     "data": {
      "text/plain": [
       "re.compile(r'[0-9]', re.IGNORECASE|re.UNICODE)"
      ]
     },
     "execution_count": 41,
     "metadata": {},
     "output_type": "execute_result"
    }
   ],
   "source": [
    "import re\n",
    "my_regex = re.compile(\"[0-9]\", re.I)"
   ]
  },
  {
   "cell_type": "markdown",
   "id": "2c55814a-e450-4e4e-8ad0-878889060420",
   "metadata": {},
   "source": [
    "Or you can used an alias"
   ]
  },
  {
   "cell_type": "code",
   "execution_count": 44,
   "id": "691a8045-f59d-4222-bf6a-335d96b9f855",
   "metadata": {},
   "outputs": [],
   "source": [
    "import re as regex\n",
    "my_regex = regex.compile(\"[0-9]\", re.I)"
   ]
  },
  {
   "cell_type": "markdown",
   "id": "5d6626c0-8971-4b0b-ab55-8c3cf2987fc7",
   "metadata": {},
   "source": [
    "Or to use standard conventions for popular libraries like ```matplotlib```"
   ]
  },
  {
   "cell_type": "code",
   "execution_count": 47,
   "id": "ef2e9cb6-6b19-4b30-904a-2fdf614ae7b3",
   "metadata": {},
   "outputs": [],
   "source": [
    "import matplotlib.pyplot as plt"
   ]
  },
  {
   "cell_type": "markdown",
   "id": "9ade1bde-9841-4871-9dbd-de613d3064d0",
   "metadata": {},
   "source": [
    "If you need specific values from a module you can use ```from``` statement"
   ]
  },
  {
   "cell_type": "code",
   "execution_count": 54,
   "id": "88b1944e-3d11-4811-9961-cd4df92dcff8",
   "metadata": {},
   "outputs": [],
   "source": [
    "from collections import defaultdict, Counter\n",
    "lookup = defaultdict(int)\n",
    "my_counter = Counter()"
   ]
  },
  {
   "cell_type": "markdown",
   "id": "b2aa83a3-eb9e-4bf0-9957-49de75ea6856",
   "metadata": {},
   "source": [
    "To import entire module you can you the ```*``` statement\n",
    "Use this if you are a bad person"
   ]
  },
  {
   "cell_type": "code",
   "execution_count": 61,
   "id": "4c77028f-6042-450f-9463-80b1b5d0ee2a",
   "metadata": {},
   "outputs": [
    {
     "name": "stdout",
     "output_type": "stream",
     "text": [
      "<function match at 0x00000146D36C6840>\n"
     ]
    }
   ],
   "source": [
    "match = 10\n",
    "from re import *\n",
    "print(match)"
   ]
  },
  {
   "cell_type": "markdown",
   "id": "e9fdc6f3-dece-478f-8f67-f808955fd826",
   "metadata": {
    "jp-MarkdownHeadingCollapsed": true
   },
   "source": [
    "### Arithmetic"
   ]
  },
  {
   "cell_type": "markdown",
   "id": "96c30195-c150-43da-a7dd-4c180dee0d78",
   "metadata": {},
   "source": [
    "Python uses integere division by default\n",
    "So, 5 / 2 = 2. This is what we dont want so \n",
    "we start our files with"
   ]
  },
  {
   "cell_type": "code",
   "execution_count": 65,
   "id": "a248233c-2724-40e3-9386-29579fe2e1ae",
   "metadata": {},
   "outputs": [],
   "source": [
    "from __future__ import division"
   ]
  },
  {
   "cell_type": "markdown",
   "id": "75e67941-ea17-43a0-bbc1-680f3d69d8cc",
   "metadata": {},
   "source": [
    "This gives us 5 / 2 = 2.5\n",
    "And if we need integer division we can do it using double slash ```5 // 2```"
   ]
  },
  {
   "cell_type": "markdown",
   "id": "ed735b49-2a69-4288-98a3-433fec531e11",
   "metadata": {
    "jp-MarkdownHeadingCollapsed": true
   },
   "source": [
    "### Functions"
   ]
  },
  {
   "cell_type": "markdown",
   "id": "73ce4570-cec2-475d-9bf8-4fa87c37bd7e",
   "metadata": {},
   "source": [
    "Functions in Python are defined using keyword ```def```"
   ]
  },
  {
   "cell_type": "code",
   "execution_count": 71,
   "id": "e09a8306-073a-402d-be0b-329dbd985764",
   "metadata": {},
   "outputs": [],
   "source": [
    "def double(x):\n",
    "    return x * 2"
   ]
  },
  {
   "cell_type": "markdown",
   "id": "9dda7b3f-b206-4b18-845d-5528902a35d0",
   "metadata": {},
   "source": [
    "Python functions can be assigned to variable and pass them to functions just like any other arguments"
   ]
  },
  {
   "cell_type": "code",
   "execution_count": 88,
   "id": "c6fe1830-255a-488e-96d6-ba2edd82c895",
   "metadata": {},
   "outputs": [
    {
     "data": {
      "text/plain": [
       "2"
      ]
     },
     "execution_count": 88,
     "metadata": {},
     "output_type": "execute_result"
    }
   ],
   "source": [
    "def apply_to_one(f):\n",
    "    return f(1)\n",
    "\n",
    "my_double = double\n",
    "x = apply_to_one(my_double)\n",
    "x"
   ]
  },
  {
   "cell_type": "markdown",
   "id": "7d3ca5a8-c158-4a0d-b44d-be7783b1d8a1",
   "metadata": {},
   "source": [
    "Creating anonymous functions (lambdas)"
   ]
  },
  {
   "cell_type": "code",
   "execution_count": 91,
   "id": "afcc38cd-9c10-489e-b85c-cda046c0f49c",
   "metadata": {},
   "outputs": [
    {
     "data": {
      "text/plain": [
       "5"
      ]
     },
     "execution_count": 91,
     "metadata": {},
     "output_type": "execute_result"
    }
   ],
   "source": [
    "y = apply_to_one(lambda x: x+4)\n",
    "y"
   ]
  },
  {
   "cell_type": "markdown",
   "id": "52cfdec4-3193-47ac-8371-36bedd73e116",
   "metadata": {},
   "source": [
    "def function is >>> lambda function"
   ]
  },
  {
   "cell_type": "code",
   "execution_count": 94,
   "id": "2db9ddec-51e4-4c4c-9edc-5bf37e9aa449",
   "metadata": {},
   "outputs": [],
   "source": [
    "another_double = lambda x: 2 * x # dont do this\n",
    "def another_double(x): return 2 * x # dot this instead"
   ]
  },
  {
   "cell_type": "markdown",
   "id": "45530a8c-47ed-4281-bcc2-1f2c3799722a",
   "metadata": {},
   "source": [
    "Functions with parameters can also be given default parameters"
   ]
  },
  {
   "cell_type": "code",
   "execution_count": 101,
   "id": "342cb2cb-4683-4cfb-b2e7-8e84266f04f3",
   "metadata": {},
   "outputs": [
    {
     "name": "stdout",
     "output_type": "stream",
     "text": [
      "Hello\n",
      "my default message\n"
     ]
    }
   ],
   "source": [
    "def my_print(message = \"my default message\"):\n",
    "    print(message)\n",
    "\n",
    "my_print(\"Hello\")\n",
    "my_print()"
   ]
  },
  {
   "cell_type": "code",
   "execution_count": 103,
   "id": "151c5560-f3f4-4158-ae26-02cde5c8cb5a",
   "metadata": {},
   "outputs": [
    {
     "data": {
      "text/plain": [
       "-5"
      ]
     },
     "execution_count": 103,
     "metadata": {},
     "output_type": "execute_result"
    }
   ],
   "source": [
    "def subtract(a=0, b=0):\n",
    "     return a - b\n",
    "subtract(10, 5) # returns 5\n",
    "subtract(0, 5)  # returns -5\n",
    "subtract(b=5)   # same as previou"
   ]
  },
  {
   "cell_type": "markdown",
   "id": "fd5d38a2-dacf-435f-b52c-fed0e9e06067",
   "metadata": {
    "jp-MarkdownHeadingCollapsed": true
   },
   "source": [
    "### Strings"
   ]
  },
  {
   "cell_type": "markdown",
   "id": "3735a1b7-8965-42dc-8de7-bdcdd1289034",
   "metadata": {},
   "source": [
    "Strings are delimited by single or double quotation marks"
   ]
  },
  {
   "cell_type": "code",
   "execution_count": 110,
   "id": "20505c68-60c1-49a4-98c7-34ad13a96308",
   "metadata": {},
   "outputs": [
    {
     "data": {
      "text/plain": [
       "'data science'"
      ]
     },
     "execution_count": 110,
     "metadata": {},
     "output_type": "execute_result"
    }
   ],
   "source": [
    "single_quoted_string = 'data science'\n",
    "double_quoted_string = \"data science\"\n",
    "single_quoted_string\n",
    "double_quoted_string"
   ]
  },
  {
   "cell_type": "markdown",
   "id": "b6eec142-535e-48dd-8e83-e5310fd78c5b",
   "metadata": {},
   "source": [
    "Python uses backslashes to encode special characters"
   ]
  },
  {
   "cell_type": "code",
   "execution_count": 118,
   "id": "79e518fb-e4ee-450b-afc5-9a2fdfa9f3b2",
   "metadata": {},
   "outputs": [
    {
     "data": {
      "text/plain": [
       "'\\t'"
      ]
     },
     "execution_count": 118,
     "metadata": {},
     "output_type": "execute_result"
    }
   ],
   "source": [
    "tab_string = \"\\t\"       \n",
    "len(tab_string)\n",
    "tab_string"
   ]
  },
  {
   "cell_type": "markdown",
   "id": "3bc34d08-c3a4-40d5-96c2-386fdcefb985",
   "metadata": {},
   "source": [
    "If you need backslash as backslash you can you can create raw string using ```r\"\"```"
   ]
  },
  {
   "cell_type": "code",
   "execution_count": 116,
   "id": "afc1e9ff-31ff-435c-b357-8da7ab53bf3f",
   "metadata": {},
   "outputs": [
    {
     "data": {
      "text/plain": [
       "'\\\\t'"
      ]
     },
     "execution_count": 116,
     "metadata": {},
     "output_type": "execute_result"
    }
   ],
   "source": [
    "not_tab_string = r\"\\t\"\n",
    "len(not_tab_string)\n",
    "not_tab_string"
   ]
  },
  {
   "cell_type": "markdown",
   "id": "74bd2054-a92c-4363-9cc1-368dd3ce4b5e",
   "metadata": {},
   "source": [
    "To create multiline string you can use triple quatation marks ```\"\"\"Strings\"\"\"```"
   ]
  },
  {
   "cell_type": "code",
   "execution_count": 123,
   "id": "68177823-2b0d-45c7-9c10-cdd6dad03e94",
   "metadata": {},
   "outputs": [
    {
     "data": {
      "text/plain": [
       "'This is the first line.\\n and this is the second line\\n and this is the third line'"
      ]
     },
     "execution_count": 123,
     "metadata": {},
     "output_type": "execute_result"
    }
   ],
   "source": [
    "multi_line_string = \"\"\"This is the first line.\n",
    " and this is the second line\n",
    " and this is the third line\"\"\"\n",
    "multi_line_string"
   ]
  },
  {
   "cell_type": "markdown",
   "id": "e3798422-309d-406a-9927-752b33f1b1a8",
   "metadata": {
    "jp-MarkdownHeadingCollapsed": true
   },
   "source": [
    "### Exceptions"
   ]
  },
  {
   "cell_type": "markdown",
   "id": "711e517d-f70a-4f79-bf05-64fc004d6cb1",
   "metadata": {},
   "source": [
    "Exceptions in python is handle by using ```try``` and ```catch``` statements"
   ]
  },
  {
   "cell_type": "code",
   "execution_count": 129,
   "id": "61c91cbc-8dbe-4655-8aa7-eb837e9a9dab",
   "metadata": {},
   "outputs": [
    {
     "name": "stdout",
     "output_type": "stream",
     "text": [
      "cannot divide by zero\n"
     ]
    }
   ],
   "source": [
    " try:\n",
    "     print( 0 / 0)\n",
    " except ZeroDivisionError:\n",
    "     print (\"cannot divide by zero\")"
   ]
  },
  {
   "cell_type": "markdown",
   "id": "33198d0e-daef-49ee-9083-2db989e2e2fa",
   "metadata": {
    "jp-MarkdownHeadingCollapsed": true
   },
   "source": [
    "### Lists"
   ]
  },
  {
   "cell_type": "code",
   "execution_count": 134,
   "id": "463c199a-7f4f-4dc2-a7ed-d4ab24d4b711",
   "metadata": {},
   "outputs": [],
   "source": [
    "integer_list = [1, 2, 3]\n",
    "heterogeneous_list = [\"string\", 0.1, True]\n",
    "list_of_lists = [ integer_list, heterogeneous_list, [] ]\n",
    "\n",
    "list_length = len(integer_list) # equals 3     \n",
    "list_sum = sum(integer_list)     # equals 6 "
   ]
  },
  {
   "cell_type": "markdown",
   "id": "47bd909a-8bdb-47c9-8e05-c1e90e350670",
   "metadata": {},
   "source": [
    " You can get or set the nth element of a list with square brackets:"
   ]
  },
  {
   "cell_type": "code",
   "execution_count": 139,
   "id": "ec59b614-ec12-461a-8d12-60bfe02be761",
   "metadata": {},
   "outputs": [],
   "source": [
    "x = list(range(10))   # is the list [0, 1, ..., 9]\n",
    "zero = x[0]     # equals 0, lists are 0-indexed\n",
    "one = x[1]      # equals 1\n",
    "nine = x[-1]    # equals 9, 'Pythonic' for last element\n",
    "eight = x[-2]   # equals 8, 'Pythonic' for next-to-last element\n",
    "x[0] = -1       # now x is [-1, 1, 2, 3, ..., 9]"
   ]
  },
  {
   "cell_type": "markdown",
   "id": "fbc2ae42-2268-462a-ae6c-e48450c5dc9f",
   "metadata": {},
   "source": [
    " You can also use square brackets to “slice” lists:"
   ]
  },
  {
   "cell_type": "code",
   "execution_count": 144,
   "id": "32fa1841-95b5-4a7e-8dba-d84fc28f0ae2",
   "metadata": {},
   "outputs": [],
   "source": [
    "first_three   = x[:3]   # [-1, 1, 2]            \n",
    "three_to_end = x[3:]     # [3, 4, ..., 9]            \n",
    "one_to_four = x[1:5]      # [1, 2, 3, 4]        \n",
    "last_three = x[-3:]         # [7, 8, 9]        \n",
    "without_first_and_last = x[1:-1]     # [1, 2, ..., 8] \n",
    "copy_of_x = x[:]                  # [-1, 1, 2, ..., 9]  "
   ]
  },
  {
   "cell_type": "markdown",
   "id": "089255e9-61f8-4629-a53d-fa9c9337ef9a",
   "metadata": {},
   "source": [
    "Python has an in operator to check for list membership:"
   ]
  },
  {
   "cell_type": "code",
   "execution_count": 147,
   "id": "58d919df-e188-4fbe-bc43-652edfe32d21",
   "metadata": {},
   "outputs": [
    {
     "data": {
      "text/plain": [
       "False"
      ]
     },
     "execution_count": 147,
     "metadata": {},
     "output_type": "execute_result"
    }
   ],
   "source": [
    "1 in [1, 2, 3]    # True\n",
    "0 in [1, 2, 3]    # False"
   ]
  },
  {
   "cell_type": "markdown",
   "id": "cf50f7aa-3adf-4d9d-96c4-aff0406174e1",
   "metadata": {},
   "source": [
    "Concatenate lists"
   ]
  },
  {
   "cell_type": "code",
   "execution_count": 152,
   "id": "1c8b2908-5445-49d0-bec8-e56a6e6ef825",
   "metadata": {},
   "outputs": [
    {
     "data": {
      "text/plain": [
       "[1, 2, 3, 4, 5, 6]"
      ]
     },
     "execution_count": 152,
     "metadata": {},
     "output_type": "execute_result"
    }
   ],
   "source": [
    "x = [1,2,3]\n",
    "x.extend([4,5,6])\n",
    "x"
   ]
  },
  {
   "cell_type": "markdown",
   "id": "db362a16-49cf-4500-89ef-c132f82324f1",
   "metadata": {},
   "source": [
    "Modity Lists"
   ]
  },
  {
   "cell_type": "code",
   "execution_count": 155,
   "id": "e76e5777-880f-42ac-8b7d-9398b3597ca1",
   "metadata": {},
   "outputs": [
    {
     "data": {
      "text/plain": [
       "[1, 2, 3, 4, 5, 6, 7, 8, 9]"
      ]
     },
     "execution_count": 155,
     "metadata": {},
     "output_type": "execute_result"
    }
   ],
   "source": [
    "y = x + [7,8,9]\n",
    "y"
   ]
  },
  {
   "cell_type": "markdown",
   "id": "45c00806-b096-483f-b56a-81f96f181f0f",
   "metadata": {},
   "source": [
    "To add one item at a time ```append``` method of list is used"
   ]
  },
  {
   "cell_type": "code",
   "execution_count": 162,
   "id": "490c1f92-aa54-4f72-837f-20ba0209f99e",
   "metadata": {},
   "outputs": [
    {
     "data": {
      "text/plain": [
       "[1, 2, 3, 4, 5, 6, 7, 7, 8]"
      ]
     },
     "execution_count": 162,
     "metadata": {},
     "output_type": "execute_result"
    }
   ],
   "source": [
    "x.append(8)\n",
    "x"
   ]
  },
  {
   "cell_type": "code",
   "execution_count": 166,
   "id": "27f56a37-f897-40da-acbf-500efae34c68",
   "metadata": {},
   "outputs": [
    {
     "data": {
      "text/plain": [
       "8"
      ]
     },
     "execution_count": 166,
     "metadata": {},
     "output_type": "execute_result"
    }
   ],
   "source": [
    "y = x[-1] # extracting last element of x list and assigning to y\n",
    "y"
   ]
  },
  {
   "cell_type": "code",
   "execution_count": 170,
   "id": "dd772092-6b4f-4ad6-a2fb-1a0b0ebb8ac7",
   "metadata": {},
   "outputs": [
    {
     "data": {
      "text/plain": [
       "9"
      ]
     },
     "execution_count": 170,
     "metadata": {},
     "output_type": "execute_result"
    }
   ],
   "source": [
    "z = len(x) # extracting the size of x and assigning to z\n",
    "z"
   ]
  },
  {
   "cell_type": "code",
   "execution_count": 176,
   "id": "4b68c5f9-5c3f-4a4c-ab88-8f839ad6b296",
   "metadata": {},
   "outputs": [
    {
     "data": {
      "text/plain": [
       "(1, 2)"
      ]
     },
     "execution_count": 176,
     "metadata": {},
     "output_type": "execute_result"
    }
   ],
   "source": [
    " x, y = [1, 2] # assigning values to x and y using list \n",
    "# it is only possible if the size of variables == size of list\n",
    "x,y"
   ]
  },
  {
   "cell_type": "markdown",
   "id": "93ea5b3e-5ea4-41d2-883b-b7a1047eb485",
   "metadata": {},
   "source": [
    "To throw away values you can use the underscores sign ```_```"
   ]
  },
  {
   "cell_type": "code",
   "execution_count": 181,
   "id": "93de3a5e-09b9-4395-8338-2130d32f9e58",
   "metadata": {},
   "outputs": [
    {
     "data": {
      "text/plain": [
       "2"
      ]
     },
     "execution_count": 181,
     "metadata": {},
     "output_type": "execute_result"
    }
   ],
   "source": [
    " _, y = [1, 2]\n",
    "y \n",
    "# it ignores the value of _"
   ]
  },
  {
   "cell_type": "markdown",
   "id": "e87fc167-8a4a-4741-937e-dfb222929141",
   "metadata": {
    "jp-MarkdownHeadingCollapsed": true
   },
   "source": [
    "### Tuples"
   ]
  },
  {
   "cell_type": "code",
   "execution_count": 3,
   "id": "bdd66c21-f02c-4a04-9082-573b9d81c3f9",
   "metadata": {},
   "outputs": [
    {
     "name": "stdout",
     "output_type": "stream",
     "text": [
      "cannot modify a tuple\n"
     ]
    }
   ],
   "source": [
    "my_list = [1, 2]\n",
    "my_tuple = (1, 2)\n",
    "other_tuple = 3, 4\n",
    "my_list[1] = 3     # my_list is now [1, 3] \n",
    "\n",
    "try:\n",
    "    my_tuple[1] = 3\n",
    "except TypeError:\n",
    "    print (\"cannot modify a tuple\")"
   ]
  },
  {
   "cell_type": "markdown",
   "id": "737cb9e7-c080-4fed-a245-1d9b09474511",
   "metadata": {},
   "source": [
    "Tuples can be used to return multiple variable from a function"
   ]
  },
  {
   "cell_type": "code",
   "execution_count": 10,
   "id": "397b37d1-b93d-4dda-a30f-3b718acb0932",
   "metadata": {},
   "outputs": [
    {
     "name": "stdout",
     "output_type": "stream",
     "text": [
      "(5, 6)\n",
      "15\n",
      "50\n"
     ]
    }
   ],
   "source": [
    "def sum_and_product(x, y):\n",
    "    return (x + y),(x * y)\n",
    "sp = sum_and_product(2, 3)    # equals (5, 6)\n",
    "s, p = sum_and_product(5, 10) # s is 15, p is 5\n",
    "print(sp)\n",
    "print(s)\n",
    "print(p)"
   ]
  },
  {
   "cell_type": "markdown",
   "id": "63552985-d478-4b9a-9ac6-0768fb264a44",
   "metadata": {},
   "source": [
    "It can also be used for multiple assignment"
   ]
  },
  {
   "cell_type": "code",
   "execution_count": 15,
   "id": "24b42025-bf3f-4956-85b7-51c35e0d562f",
   "metadata": {},
   "outputs": [
    {
     "name": "stdout",
     "output_type": "stream",
     "text": [
      "2\n",
      "1\n"
     ]
    }
   ],
   "source": [
    "x, y = 1, 2\n",
    "x, y = y, x\n",
    "print(x)\n",
    "print(y)"
   ]
  },
  {
   "cell_type": "markdown",
   "id": "b8936191-f828-40cb-96a7-add1fc93fd22",
   "metadata": {
    "jp-MarkdownHeadingCollapsed": true
   },
   "source": [
    "### Dictionaries"
   ]
  },
  {
   "cell_type": "code",
   "execution_count": 18,
   "id": "5422f7be-3ce5-44a5-89c9-620b5cf1801e",
   "metadata": {},
   "outputs": [
    {
     "name": "stdout",
     "output_type": "stream",
     "text": [
      "{'Joel': 80, 'Tim': 95}\n"
     ]
    }
   ],
   "source": [
    "empty_dict = {}           # Pythonic              \n",
    "empty_dict2 = dict()      # less Pythonic              \n",
    "grades = { \"Joel\" : 80, \"Tim\" : 95 }    # dictionary literal\n",
    "print(grades)"
   ]
  },
  {
   "cell_type": "markdown",
   "id": "8dc56fee-0d92-4275-91ec-4a49a56d1cae",
   "metadata": {},
   "source": [
    "You can access values of dictionaries using their key as index"
   ]
  },
  {
   "cell_type": "code",
   "execution_count": 25,
   "id": "e2ff7aa0-acd2-4691-ae93-dc8a9fdd81c4",
   "metadata": {},
   "outputs": [
    {
     "name": "stdout",
     "output_type": "stream",
     "text": [
      "80\n"
     ]
    }
   ],
   "source": [
    "joels_grade = grades[\"Joel\"]\n",
    "print(joels_grade)"
   ]
  },
  {
   "cell_type": "markdown",
   "id": "65fa4309-98e6-4025-8264-6be47cd12dee",
   "metadata": {},
   "source": [
    "You will get a KeyError if you ask for a key that is not in the dictionary"
   ]
  },
  {
   "cell_type": "code",
   "execution_count": 30,
   "id": "04e5368a-3061-4cf5-976c-52d982d69813",
   "metadata": {},
   "outputs": [
    {
     "name": "stdout",
     "output_type": "stream",
     "text": [
      "no grade for Kate!\n"
     ]
    }
   ],
   "source": [
    "try:\n",
    "    kates_grade = grades[\"Kate\"]\n",
    "except KeyError:\n",
    "    print (\"no grade for Kate!\")"
   ]
  },
  {
   "cell_type": "markdown",
   "id": "029c4df3-cc3b-4438-b019-5f0b39f5f46b",
   "metadata": {},
   "source": [
    "You can also check for the existenceof a key using ```in```"
   ]
  },
  {
   "cell_type": "code",
   "execution_count": 33,
   "id": "3b2840aa-8b1f-4a8f-8015-b9ccdac233cf",
   "metadata": {},
   "outputs": [
    {
     "name": "stdout",
     "output_type": "stream",
     "text": [
      "True\n",
      "False\n"
     ]
    }
   ],
   "source": [
    "joel_has_grade = \"Joel\" in grades     # True\n",
    "kate_has_grade = \"Kate\" in grades     # False\n",
    "print(joel_has_grade)\n",
    "print(kate_has_grade)"
   ]
  },
  {
   "cell_type": "markdown",
   "id": "963637ac-4b20-40d8-a098-f9ebe2ebe4d1",
   "metadata": {},
   "source": [
    "```get``` method returns a default value "
   ]
  },
  {
   "cell_type": "code",
   "execution_count": 40,
   "id": "fb2d7fa3-458c-439f-a73e-7cdc1dd0b6b8",
   "metadata": {},
   "outputs": [
    {
     "name": "stdout",
     "output_type": "stream",
     "text": [
      "80\n",
      "0\n",
      "None\n"
     ]
    }
   ],
   "source": [
    "joels_grade = grades.get(\"Joel\", 0)   # equals 80\n",
    "kates_grade = grades.get(\"Kate\", 0)   # equals 0\n",
    "no_ones_grade = grades.get(\"No One\")  # default default is None\n",
    "print(joels_grade)\n",
    "print(kates_grade)\n",
    "print(no_ones_grade) # if the key does not have any default value it returns 'None'"
   ]
  },
  {
   "cell_type": "markdown",
   "id": "153e3528-ee2d-43b2-a50d-3729affe2294",
   "metadata": {},
   "source": [
    "Assigning values to key"
   ]
  },
  {
   "cell_type": "code",
   "execution_count": 44,
   "id": "79436662-ef8c-41f0-b4a2-c24405d5fb63",
   "metadata": {},
   "outputs": [
    {
     "name": "stdout",
     "output_type": "stream",
     "text": [
      "{'Joel': 80, 'Tim': 99, 'Kate': 100}\n"
     ]
    }
   ],
   "source": [
    "grades[\"Tim\"] = 99        # replaces the old value\n",
    "grades[\"Kate\"] = 100       # adds a third entry           \n",
    "num_students = len(grades)     # equals 3        \n",
    "print(grades)"
   ]
  },
  {
   "cell_type": "markdown",
   "id": "cf4b9bed-77e2-4dca-8458-5c8cd6f7b0a4",
   "metadata": {},
   "source": [
    "Representing Structured Data"
   ]
  },
  {
   "cell_type": "code",
   "execution_count": 50,
   "id": "3ac9dc5b-a609-4e2b-8415-908a06da6ebd",
   "metadata": {},
   "outputs": [],
   "source": [
    "tweet = {\n",
    " \"user\" : \"joelgrus\",\n",
    " \"text\" : \"Data Science is Awesome\",\n",
    " \"retweet_count\" : 100,\n",
    " \"hashtags\" : [\"#data\", \"#science\", \"#datascience\", \"#awesome\", \"#yolo\"]\n",
    " }"
   ]
  },
  {
   "cell_type": "code",
   "execution_count": 52,
   "id": "d5433ba7-54d4-4187-a67b-25844de97de7",
   "metadata": {},
   "outputs": [
    {
     "data": {
      "text/plain": [
       "{'user': 'joelgrus',\n",
       " 'text': 'Data Science is Awesome',\n",
       " 'retweet_count': 100,\n",
       " 'hashtags': ['#data', '#science', '#datascience', '#awesome', '#yolo']}"
      ]
     },
     "execution_count": 52,
     "metadata": {},
     "output_type": "execute_result"
    }
   ],
   "source": [
    "tweet"
   ]
  },
  {
   "cell_type": "code",
   "execution_count": 56,
   "id": "e96ee8ee-ff20-477b-8c54-43834000de26",
   "metadata": {},
   "outputs": [
    {
     "name": "stdout",
     "output_type": "stream",
     "text": [
      "True\n",
      "True\n",
      "True\n"
     ]
    }
   ],
   "source": [
    "tweet_keys   = tweet.keys()     # list of keys\n",
    "tweet_values = tweet.values()   # list of values\n",
    "tweet_items  = tweet.items()    # list of (key, value) tuples\n",
    "print(\"user\" in tweet_keys)            # True, but uses a slow list in         \n",
    "print(\"user\" in tweet)                 # more Pythonic, uses faster dict in \n",
    "print(\"joelgrus\" in tweet_values)       # True"
   ]
  },
  {
   "cell_type": "markdown",
   "id": "adc36648-e488-4daf-a463-9aab86392b3a",
   "metadata": {},
   "source": [
    "#### defaultdict"
   ]
  },
  {
   "cell_type": "markdown",
   "id": "93498779-8f12-4c88-8c1c-3dfd567d1ef1",
   "metadata": {},
   "source": [
    "1st approach to count word"
   ]
  },
  {
   "cell_type": "code",
   "execution_count": 77,
   "id": "adab2f0a-9819-45c8-9684-b98e226a112b",
   "metadata": {},
   "outputs": [
    {
     "name": "stdout",
     "output_type": "stream",
     "text": [
      "{'Hello': 1, 'Student': 1, 'Prajapati': 1, 'a': 1, 'Scientist': 1, 'ML': 1, 'Is': 2, 'Ronish': 2, 'World': 1, 'is': 1, 'name': 2, 'My': 1}\n"
     ]
    }
   ],
   "source": [
    "document=[\"Hello\",\"Student\",\"Prajapati\",\"a\",\"Scientist\",\"ML\",\"Is\",\"Is\",\"Ronish\",\"World\",\"Ronish\",\"is\",\"name\",\"name\",\"My\"]\n",
    "word_counts = {}\n",
    "for word in document:\n",
    "    if word in word_counts:\n",
    "        word_counts[word] += 1\n",
    "    else:\n",
    "        word_counts[word] = 1\n",
    "print(word_counts)"
   ]
  },
  {
   "cell_type": "markdown",
   "id": "da1c69bf-5dad-4158-83b3-397706693c57",
   "metadata": {},
   "source": [
    "2nd approach"
   ]
  },
  {
   "cell_type": "code",
   "execution_count": 80,
   "id": "d646c559-d89a-41cf-9f51-d8343851a633",
   "metadata": {},
   "outputs": [
    {
     "data": {
      "text/plain": [
       "{'Hello': 1,\n",
       " 'Student': 1,\n",
       " 'Prajapati': 1,\n",
       " 'a': 1,\n",
       " 'Scientist': 1,\n",
       " 'ML': 1,\n",
       " 'Is': 2,\n",
       " 'Ronish': 2,\n",
       " 'World': 1,\n",
       " 'is': 1,\n",
       " 'name': 2,\n",
       " 'My': 1}"
      ]
     },
     "execution_count": 80,
     "metadata": {},
     "output_type": "execute_result"
    }
   ],
   "source": [
    "word_counts = {}\n",
    "for word in document:\n",
    "    try:\n",
    "        word_counts[word] += 1\n",
    "    except KeyError:\n",
    "         word_counts[word] = 1\n",
    "word_counts"
   ]
  },
  {
   "cell_type": "markdown",
   "id": "ba04c4e8-4e4b-4044-8ebe-6ef26be18815",
   "metadata": {},
   "source": [
    "3rd approach "
   ]
  },
  {
   "cell_type": "code",
   "execution_count": 89,
   "id": "56dfc198-370e-4f16-954f-d74f2c689e5f",
   "metadata": {},
   "outputs": [
    {
     "name": "stdout",
     "output_type": "stream",
     "text": [
      "0\n",
      "0\n",
      "0\n",
      "0\n",
      "0\n",
      "0\n",
      "0\n",
      "1\n",
      "0\n",
      "0\n",
      "1\n",
      "0\n",
      "0\n",
      "1\n",
      "0\n"
     ]
    },
    {
     "data": {
      "text/plain": [
       "{'Hello': 1,\n",
       " 'Student': 1,\n",
       " 'Prajapati': 1,\n",
       " 'a': 1,\n",
       " 'Scientist': 1,\n",
       " 'ML': 1,\n",
       " 'Is': 2,\n",
       " 'Ronish': 2,\n",
       " 'World': 1,\n",
       " 'is': 1,\n",
       " 'name': 2,\n",
       " 'My': 1}"
      ]
     },
     "execution_count": 89,
     "metadata": {},
     "output_type": "execute_result"
    }
   ],
   "source": [
    "word_counts = {}\n",
    "for word in document:\n",
    "    previous_count = word_counts.get(word, 0)\n",
    "    print(previous_count)\n",
    "    word_counts[word] = previous_count + 1\n",
    "word_counts"
   ]
  },
  {
   "cell_type": "code",
   "execution_count": 91,
   "id": "3090b9e7-a58b-4e4f-8d3f-f1495b809bb7",
   "metadata": {},
   "outputs": [
    {
     "data": {
      "text/plain": [
       "defaultdict(int,\n",
       "            {'Hello': 1,\n",
       "             'Student': 1,\n",
       "             'Prajapati': 1,\n",
       "             'a': 1,\n",
       "             'Scientist': 1,\n",
       "             'ML': 1,\n",
       "             'Is': 2,\n",
       "             'Ronish': 2,\n",
       "             'World': 1,\n",
       "             'is': 1,\n",
       "             'name': 2,\n",
       "             'My': 1})"
      ]
     },
     "execution_count": 91,
     "metadata": {},
     "output_type": "execute_result"
    }
   ],
   "source": [
    "from collections import defaultdict\n",
    "word_counts = defaultdict(int)   # int() produces 0       \n",
    "for word in document:\n",
    "    word_counts[word] += 1\n",
    "word_counts"
   ]
  },
  {
   "cell_type": "code",
   "execution_count": 111,
   "id": "4b34dc67-e330-45b0-91d1-4f0f181b6678",
   "metadata": {},
   "outputs": [],
   "source": [
    "dd_list = defaultdict(list)    # list() produces an empty list         \n",
    "dd_list[\"num\"].append(1)           # now dd_list contains {2: [1]}          \n",
    "dd_dict = defaultdict(dict)     # dict() produces an empty dict         \n",
    "dd_dict[\"Joel\"][\"City\"] = \"Seattle\"  # { \"Joel\" : { \"City\" : Seattle\"}}   \n",
    "dd_pair = defaultdict(lambda: [0, 0])\n",
    "dd_pair[2][0] = 1                    # [2] is key ,[0] is index of [0,0] and 1 is the value to put in the 0 index  "
   ]
  },
  {
   "cell_type": "code",
   "execution_count": 113,
   "id": "a958d68b-16f8-4178-bcfd-1ad6168a8249",
   "metadata": {},
   "outputs": [
    {
     "data": {
      "text/plain": [
       "defaultdict(list, {'num': [1]})"
      ]
     },
     "execution_count": 113,
     "metadata": {},
     "output_type": "execute_result"
    }
   ],
   "source": [
    "dd_list"
   ]
  },
  {
   "cell_type": "code",
   "execution_count": 115,
   "id": "3b3124c2-141a-4699-807d-b56231e45635",
   "metadata": {},
   "outputs": [
    {
     "data": {
      "text/plain": [
       "defaultdict(dict, {'Joel': {'City': 'Seattle'}})"
      ]
     },
     "execution_count": 115,
     "metadata": {},
     "output_type": "execute_result"
    }
   ],
   "source": [
    "dd_dict"
   ]
  },
  {
   "cell_type": "code",
   "execution_count": 117,
   "id": "7adc402a-f332-4f14-b888-31cae7b69536",
   "metadata": {},
   "outputs": [
    {
     "data": {
      "text/plain": [
       "defaultdict(<function __main__.<lambda>()>, {2: [1, 0]})"
      ]
     },
     "execution_count": 117,
     "metadata": {},
     "output_type": "execute_result"
    }
   ],
   "source": [
    "dd_pair"
   ]
  },
  {
   "cell_type": "markdown",
   "id": "88d1b36a-5632-4708-8e0e-d5cb64962e68",
   "metadata": {},
   "source": [
    "#### Counter"
   ]
  },
  {
   "cell_type": "markdown",
   "id": "ee2d1b6b-2411-439d-920c-abd01346830d",
   "metadata": {},
   "source": [
    "Counter basically counts the values"
   ]
  },
  {
   "cell_type": "code",
   "execution_count": 124,
   "id": "7949ec79-663f-4d5d-9d74-756dac6b4956",
   "metadata": {},
   "outputs": [
    {
     "data": {
      "text/plain": [
       "Counter({'C': 2, 'A': 1, 'B': 1})"
      ]
     },
     "execution_count": 124,
     "metadata": {},
     "output_type": "execute_result"
    }
   ],
   "source": [
    "from collections import Counter\n",
    "c = Counter([\"A\", \"B\", \"C\", \"C\"])          # c is (basically) {'C': 2, 'A': 1, 'B': 1 }\n",
    "c"
   ]
  },
  {
   "cell_type": "markdown",
   "id": "51c5bacf-e7e7-43f9-9d89-2c63926ee705",
   "metadata": {},
   "source": [
    "This is doing extactly how we counted using defaultdic or the other way"
   ]
  },
  {
   "cell_type": "code",
   "execution_count": 129,
   "id": "986453ff-7cf6-454a-af1f-92f3b640b9cd",
   "metadata": {},
   "outputs": [
    {
     "data": {
      "text/plain": [
       "Counter({'Is': 2,\n",
       "         'Ronish': 2,\n",
       "         'name': 2,\n",
       "         'Hello': 1,\n",
       "         'Student': 1,\n",
       "         'Prajapati': 1,\n",
       "         'a': 1,\n",
       "         'Scientist': 1,\n",
       "         'ML': 1,\n",
       "         'World': 1,\n",
       "         'is': 1,\n",
       "         'My': 1})"
      ]
     },
     "execution_count": 129,
     "metadata": {},
     "output_type": "execute_result"
    }
   ],
   "source": [
    "word_counts = Counter(document)\n",
    "word_counts"
   ]
  },
  {
   "cell_type": "markdown",
   "id": "2d542ade-2559-46c8-813c-c63fb2810523",
   "metadata": {},
   "source": [
    "The ```most_common``` method"
   ]
  },
  {
   "cell_type": "code",
   "execution_count": 135,
   "id": "57dff4d3-2f32-44d9-ad1c-8deb0677d262",
   "metadata": {},
   "outputs": [
    {
     "name": "stdout",
     "output_type": "stream",
     "text": [
      "Is 2\n",
      "Ronish 2\n",
      "name 2\n",
      "Hello 1\n",
      "Student 1\n",
      "Prajapati 1\n",
      "a 1\n",
      "Scientist 1\n",
      "ML 1\n",
      "World 1\n"
     ]
    }
   ],
   "source": [
    " # print the 10 most common words and their counts\n",
    "for word, count in word_counts.most_common(10):\n",
    "    print (word, count)"
   ]
  },
  {
   "cell_type": "markdown",
   "id": "fdbf83a2-b1be-4001-b48e-a3f652723617",
   "metadata": {
    "jp-MarkdownHeadingCollapsed": true
   },
   "source": [
    "### Sets"
   ]
  },
  {
   "cell_type": "code",
   "execution_count": 4,
   "id": "da1d7b54-6f0c-4a04-9a3d-a0ed2dbcd15b",
   "metadata": {},
   "outputs": [
    {
     "name": "stdout",
     "output_type": "stream",
     "text": [
      "{1, 2}\n",
      "2\n",
      "True\n",
      "False\n"
     ]
    }
   ],
   "source": [
    "s = set()\n",
    "s.add(1) # s is now { 1 }\n",
    "s.add(2) # s is now { 1, 2 }\n",
    "s.add(2) # s is still { 1, 2 }\n",
    "x = len(s) # equals 2\n",
    "y = 2 in s # equals True\n",
    "z = 3 in s # equals False\n",
    "print(s)\n",
    "print(x)\n",
    "print(y)\n",
    "print(z)"
   ]
  },
  {
   "cell_type": "markdown",
   "id": "06c438a3-c034-4d42-b5ba-c142c4b57de2",
   "metadata": {},
   "source": [
    "It is faster to check if the word is in the collection using set as it holds only unique words"
   ]
  },
  {
   "cell_type": "code",
   "execution_count": 14,
   "id": "b940a603-1b59-47d6-9da2-6e5dc7236cb3",
   "metadata": {},
   "outputs": [
    {
     "data": {
      "text/plain": [
       "False"
      ]
     },
     "execution_count": 14,
     "metadata": {},
     "output_type": "execute_result"
    }
   ],
   "source": [
    "hundreds_of_other_words = [\"Here\", \"will\", \"be\", \"Hundreds\", \"of\", \"other\", \"words\"]\n",
    "stopwords_list = [\"a\",\"an\",\"at\"] + hundreds_of_other_words + [\"yet\", \"you\"]\n",
    "\"zip\" in stopwords_list # False, but have to check every element\n",
    "stopwords_set = set(stopwords_list)\n",
    "\"zip\" in stopwords_set # very fast to check"
   ]
  },
  {
   "cell_type": "markdown",
   "id": "3511775a-6f4c-4a63-a3b6-26694c58f7a2",
   "metadata": {},
   "source": [
    "As said above the set holds only distinct items in the collections.\n",
    "It can be used to find the unique element."
   ]
  },
  {
   "cell_type": "code",
   "execution_count": null,
   "id": "b9278b87-200d-4105-a6f7-5a4032bb3283",
   "metadata": {},
   "outputs": [],
   "source": [
    "item_list = [1, 2, 3, 1, 2, 3]\n",
    "num_items = len(item_list) # 6\n",
    "item_set = set(item_list) # {1, 2, 3}\n",
    "num_distinct_items = len(item_set) # 3\n",
    "distinct_item_list = list(item_set) # [1, 2, 3]"
   ]
  },
  {
   "cell_type": "markdown",
   "id": "55df2a3d-2b16-4497-93bb-c1e30f863119",
   "metadata": {
    "jp-MarkdownHeadingCollapsed": true
   },
   "source": [
    "### Control Flow"
   ]
  },
  {
   "cell_type": "markdown",
   "id": "f9a22eec-85ae-40e4-8ded-c5d8b1b8b021",
   "metadata": {},
   "source": [
    "The ```if elif else``` Statement"
   ]
  },
  {
   "cell_type": "code",
   "execution_count": 24,
   "id": "cbf685fc-3f66-422f-88a1-09dbdfef32b2",
   "metadata": {},
   "outputs": [],
   "source": [
    "if 1 > 2:\n",
    "    message = \"if only 1 were greater than two...\"\n",
    "elif 1 > 3:\n",
    "    message = \"elif stands for 'else if'\"\n",
    "else:\n",
    "    message = \"when all else fails use else (if you want to)\""
   ]
  },
  {
   "cell_type": "markdown",
   "id": "15260d1d-c2cc-40a0-b534-cb1f72f215fb",
   "metadata": {},
   "source": [
    "Ternary ```if-then-else```"
   ]
  },
  {
   "cell_type": "code",
   "execution_count": 27,
   "id": "c7ed7e4c-190d-4f22-b7f1-25f01f09a913",
   "metadata": {},
   "outputs": [],
   "source": [
    "parity = \"even\" if x % 2 == 0 else \"odd\""
   ]
  },
  {
   "cell_type": "markdown",
   "id": "460fd840-a887-4092-a666-3939374a80a1",
   "metadata": {},
   "source": [
    "```while``` Loop"
   ]
  },
  {
   "cell_type": "code",
   "execution_count": 30,
   "id": "14967b7b-b651-45c2-beae-5142fc27cdd6",
   "metadata": {},
   "outputs": [
    {
     "name": "stdout",
     "output_type": "stream",
     "text": [
      "0 is less than 10\n",
      "1 is less than 10\n",
      "2 is less than 10\n",
      "3 is less than 10\n",
      "4 is less than 10\n",
      "5 is less than 10\n",
      "6 is less than 10\n",
      "7 is less than 10\n",
      "8 is less than 10\n",
      "9 is less than 10\n"
     ]
    }
   ],
   "source": [
    "x = 0\n",
    "while x < 10:\n",
    "    print (x, \"is less than 10\")\n",
    "    x += 1"
   ]
  },
  {
   "cell_type": "markdown",
   "id": "c2e0f929-f380-4852-9346-b283e103a246",
   "metadata": {},
   "source": [
    "```for``` and ```in``` loop"
   ]
  },
  {
   "cell_type": "code",
   "execution_count": 37,
   "id": "b633d262-662a-4434-87ed-4b1538711e60",
   "metadata": {},
   "outputs": [
    {
     "name": "stdout",
     "output_type": "stream",
     "text": [
      "0 is less than 10\n",
      "1 is less than 10\n",
      "2 is less than 10\n",
      "3 is less than 10\n",
      "4 is less than 10\n",
      "5 is less than 10\n",
      "6 is less than 10\n",
      "7 is less than 10\n",
      "8 is less than 10\n",
      "9 is less than 10\n"
     ]
    }
   ],
   "source": [
    "for x in range(10):\n",
    "    print (x, \"is less than 10\")"
   ]
  },
  {
   "cell_type": "markdown",
   "id": "ce0fd50a-e629-47af-b4b6-98dc5fbed3f6",
   "metadata": {},
   "source": [
    "```for``` loop along with ```continue``` and ```break```"
   ]
  },
  {
   "cell_type": "code",
   "execution_count": 39,
   "id": "ea3f5020-7d50-49cc-9fd2-829758cd130a",
   "metadata": {},
   "outputs": [
    {
     "name": "stdout",
     "output_type": "stream",
     "text": [
      "0\n",
      "1\n",
      "2\n",
      "4\n"
     ]
    }
   ],
   "source": [
    "for x in range(10):\n",
    "    if x == 3:\n",
    "        continue # go immediately to the next iteration\n",
    "    if x == 5:\n",
    "        break # quit the loop entirely\n",
    "    print (x)"
   ]
  },
  {
   "cell_type": "markdown",
   "id": "19396db0-29c1-4f9e-85e8-4ac8b166b224",
   "metadata": {},
   "source": [
    "### Truthiness"
   ]
  },
  {
   "cell_type": "code",
   "execution_count": 43,
   "id": "1d30310a-0967-488d-b2b1-92b2117cbf09",
   "metadata": {},
   "outputs": [],
   "source": [
    "one_is_less_than_two = 1 < 2 # equals True\n",
    "true_equals_false = True == False # equals False"
   ]
  },
  {
   "cell_type": "markdown",
   "id": "35730a9c-1245-4ac0-b7cb-faf7926b63f4",
   "metadata": {},
   "source": [
    "Python uses the value None to indicate a nonexistent value. It is similar to other languages’ null"
   ]
  },
  {
   "cell_type": "code",
   "execution_count": 47,
   "id": "8bca2a1d-1cb7-456a-ac3c-c03b69e1be99",
   "metadata": {},
   "outputs": [
    {
     "name": "stdout",
     "output_type": "stream",
     "text": [
      "True\n",
      "True\n"
     ]
    }
   ],
   "source": [
    "x = None\n",
    "print (x == None) # prints True, but is not Pythonic\n",
    "print (x is None) # prints True, and is Pythonic"
   ]
  },
  {
   "cell_type": "code",
   "execution_count": 56,
   "id": "163e0db1-3a39-4af7-a52c-b52eaa335c46",
   "metadata": {},
   "outputs": [
    {
     "data": {
      "text/plain": [
       "''"
      ]
     },
     "execution_count": 56,
     "metadata": {},
     "output_type": "execute_result"
    }
   ],
   "source": [
    "def some_function_that_returns_a_string():\n",
    "    return \"Ronish\"\n",
    "s = some_function_that_returns_a_string()\n",
    "if s:\n",
    " first_char = s[0]\n",
    "else:\n",
    " first_char = \"\"\n",
    "first_char"
   ]
  },
  {
   "cell_type": "code",
   "execution_count": 60,
   "id": "e6de71ae-e6fb-4469-b604-46c0ff557278",
   "metadata": {},
   "outputs": [
    {
     "data": {
      "text/plain": [
       "''"
      ]
     },
     "execution_count": 60,
     "metadata": {},
     "output_type": "execute_result"
    }
   ],
   "source": [
    "first_char = s and s[0]\n",
    "first_char "
   ]
  },
  {
   "cell_type": "code",
   "execution_count": 62,
   "id": "a39a10c2-3c71-4922-8642-ed91ee0c6d06",
   "metadata": {},
   "outputs": [
    {
     "data": {
      "text/plain": [
       "False"
      ]
     },
     "execution_count": 62,
     "metadata": {},
     "output_type": "execute_result"
    }
   ],
   "source": [
    "all([True, 1, { 3 }]) # True\n",
    "all([True, 1, {}]) # False, {} is falsy\n",
    "any([True, 1, {}]) # True, True is truthy\n",
    "all([]) # True, no falsy elements in the list\n",
    "any([]) # False, no truthy elements in the list"
   ]
  },
  {
   "cell_type": "markdown",
   "id": "8a76f880-976c-41ce-8730-d5ce841d2d7a",
   "metadata": {},
   "source": [
    "## Not-So-Basics"
   ]
  },
  {
   "cell_type": "markdown",
   "id": "30022052-f108-4b5f-86a7-b9b4c644a05f",
   "metadata": {},
   "source": [
    "### Sorting"
   ]
  },
  {
   "cell_type": "code",
   "execution_count": null,
   "id": "534abb51-97aa-4188-9495-e43e8c8ac799",
   "metadata": {},
   "outputs": [],
   "source": [
    "x = [4,1,2,3]\n",
    "y = sorted(x) # is [1,2,3,4], x is unchanged\n",
    "x.sort() # now x is [1,2,3,4]"
   ]
  },
  {
   "cell_type": "code",
   "execution_count": 84,
   "id": "5beb73e5-7347-4ea0-842e-9c47b5f22a07",
   "metadata": {},
   "outputs": [
    {
     "name": "stdout",
     "output_type": "stream",
     "text": [
      "[-4, 3, -2, 1]\n",
      "[('cherry', 7), ('banana', 2), ('apple', 4)]\n"
     ]
    },
    {
     "data": {
      "text/plain": [
       "[('cherry', 7), ('apple', 4), ('banana', 2)]"
      ]
     },
     "execution_count": 84,
     "metadata": {},
     "output_type": "execute_result"
    }
   ],
   "source": [
    "# sort the list by absolute value from largest to smallest\n",
    "x = sorted([-4,1,-2,3], key=abs, reverse=True) # is [-4,3,-2,1]\n",
    "print(x)\n",
    "# sort the words and counts from highest count to lowest\n",
    "word_counts = {\"apple\": 4, \"banana\": 2, \"cherry\": 7}\n",
    "wc = sorted(word_counts.items(), reverse=True) # Sorts by key\n",
    "print(wc)\n",
    "wc = sorted(word_counts.items(), key=lambda item: item[1], reverse=True) # Sorts by values\n",
    "wc"
   ]
  },
  {
   "cell_type": "markdown",
   "id": "e3ca7b91-398a-445f-abbf-a6df83b8283b",
   "metadata": {},
   "source": [
    "### List Comprehensions"
   ]
  },
  {
   "cell_type": "markdown",
   "id": "d49d87bf-703e-4ba6-b4f0-29f761a89d0e",
   "metadata": {},
   "source": [
    "For Lists"
   ]
  },
  {
   "cell_type": "code",
   "execution_count": 92,
   "id": "e6a37152-0ce3-44db-893f-dba9f9d0d355",
   "metadata": {},
   "outputs": [
    {
     "name": "stdout",
     "output_type": "stream",
     "text": [
      "[0, 2, 4]\n",
      "[0, 1, 4, 9, 16]\n",
      "[0, 4, 16]\n"
     ]
    }
   ],
   "source": [
    "even_numbers = [x for x in range(5) if x % 2 == 0] # [0, 2, 4]\n",
    "squares = [x * x for x in range(5)] # [0, 1, 4, 9, 16]\n",
    "even_squares = [x * x for x in even_numbers] # [0, 4, 16]\n",
    "print(even_numbers)\n",
    "print(squares)\n",
    "print(even_squares)"
   ]
  },
  {
   "cell_type": "markdown",
   "id": "512aeaf3-ad77-43ef-ae26-d340f3ef1693",
   "metadata": {},
   "source": [
    "For Dictionaries and Sets"
   ]
  },
  {
   "cell_type": "code",
   "execution_count": 107,
   "id": "0f43d29f-478b-403b-ab06-3d2de798a0f1",
   "metadata": {},
   "outputs": [
    {
     "name": "stdout",
     "output_type": "stream",
     "text": [
      "{0: 0, 1: 1, 2: 4, 3: 9, 4: 16}\n",
      "{1, 4}\n"
     ]
    }
   ],
   "source": [
    "square_dict = { x : x * x for x in range(5) } # { 0:0, 1:1, 2:4, 3:9, 4:16 }\n",
    "square_set = { x * x for x in [1, -1, 2] } # { 1 }\n",
    "print(square_dict)\n",
    "print(square_set)"
   ]
  },
  {
   "cell_type": "markdown",
   "id": "4e962ed2-35b4-47b3-9f03-fa946d6b8914",
   "metadata": {},
   "source": [
    "If your dont need values from the list, use the underscore ```_```"
   ]
  },
  {
   "cell_type": "code",
   "execution_count": 109,
   "id": "a5d119c3-0a7c-422e-b45c-6ee8ac9e0a21",
   "metadata": {},
   "outputs": [
    {
     "data": {
      "text/plain": [
       "[0, 0, 0]"
      ]
     },
     "execution_count": 109,
     "metadata": {},
     "output_type": "execute_result"
    }
   ],
   "source": [
    "zeroes = [0 for _ in even_numbers] # has the same length as even_numbers\n",
    "zeroes"
   ]
  },
  {
   "cell_type": "markdown",
   "id": "662f79e4-0088-4998-a2b7-248e2e0fd723",
   "metadata": {},
   "source": [
    "Using multiple ```for```"
   ]
  },
  {
   "cell_type": "code",
   "execution_count": 120,
   "id": "91ffaab0-4973-4273-83f7-ee2a252490b4",
   "metadata": {},
   "outputs": [
    {
     "name": "stdout",
     "output_type": "stream",
     "text": [
      "[(0, 0), (0, 1), (0, 2), (0, 3), (0, 4), (0, 5), (0, 6), (0, 7), (0, 8), (0, 9), (1, 0), (1, 1), (1, 2), (1, 3), (1, 4), (1, 5), (1, 6), (1, 7), (1, 8), (1, 9), (2, 0), (2, 1), (2, 2), (2, 3), (2, 4), (2, 5), (2, 6), (2, 7), (2, 8), (2, 9), (3, 0), (3, 1), (3, 2), (3, 3), (3, 4), (3, 5), (3, 6), (3, 7), (3, 8), (3, 9), (4, 0), (4, 1), (4, 2), (4, 3), (4, 4), (4, 5), (4, 6), (4, 7), (4, 8), (4, 9), (5, 0), (5, 1), (5, 2), (5, 3), (5, 4), (5, 5), (5, 6), (5, 7), (5, 8), (5, 9), (6, 0), (6, 1), (6, 2), (6, 3), (6, 4), (6, 5), (6, 6), (6, 7), (6, 8), (6, 9), (7, 0), (7, 1), (7, 2), (7, 3), (7, 4), (7, 5), (7, 6), (7, 7), (7, 8), (7, 9), (8, 0), (8, 1), (8, 2), (8, 3), (8, 4), (8, 5), (8, 6), (8, 7), (8, 8), (8, 9), (9, 0), (9, 1), (9, 2), (9, 3), (9, 4), (9, 5), (9, 6), (9, 7), (9, 8), (9, 9)]\n"
     ]
    }
   ],
   "source": [
    "pairs = [(x, y)\n",
    "    for x in range(10)\n",
    "    for y in range(10)] # 100 pairs (0,0) (0,1) ... (9,8), (9,9)\n",
    "print(pairs)"
   ]
  },
  {
   "cell_type": "code",
   "execution_count": 124,
   "id": "3b34b036-c3f3-4b3e-8204-1f734b99c1b3",
   "metadata": {},
   "outputs": [
    {
     "name": "stdout",
     "output_type": "stream",
     "text": [
      "[(0, 1), (0, 2), (0, 3), (0, 4), (0, 5), (0, 6), (0, 7), (0, 8), (0, 9), (1, 2), (1, 3), (1, 4), (1, 5), (1, 6), (1, 7), (1, 8), (1, 9), (2, 3), (2, 4), (2, 5), (2, 6), (2, 7), (2, 8), (2, 9), (3, 4), (3, 5), (3, 6), (3, 7), (3, 8), (3, 9), (4, 5), (4, 6), (4, 7), (4, 8), (4, 9), (5, 6), (5, 7), (5, 8), (5, 9), (6, 7), (6, 8), (6, 9), (7, 8), (7, 9), (8, 9)]\n"
     ]
    }
   ],
   "source": [
    "increasing_pairs = [(x, y) # only pairs with x < y,\n",
    "    for x in range(10) # range(lo, hi) equals\n",
    "    for y in range(x + 1, 10)] # [lo, lo + 1, ..., hi - 1]\n",
    "print(increasing_pairs)"
   ]
  },
  {
   "cell_type": "markdown",
   "id": "100f8e4a-dfc4-4759-9cac-829db42b4333",
   "metadata": {},
   "source": [
    "### Generators and Iterators"
   ]
  },
  {
   "cell_type": "markdown",
   "id": "696328a7-4540-424d-a3f7-675ffa86f685",
   "metadata": {},
   "source": [
    "First approach"
   ]
  },
  {
   "cell_type": "code",
   "execution_count": 138,
   "id": "ce33c778-3b26-4df3-a7ee-bfc07597b0e6",
   "metadata": {},
   "outputs": [
    {
     "data": {
      "text/plain": [
       "<generator object lazy_range at 0x0000028C49A17B80>"
      ]
     },
     "execution_count": 138,
     "metadata": {},
     "output_type": "execute_result"
    }
   ],
   "source": [
    "def lazy_range(n):\n",
    "    \"\"\"a lazy version of range\"\"\"\n",
    "    i = 0\n",
    "    while i < n:\n",
    "        yield i\n",
    "        i += 1\n",
    "\n",
    "lazy_range(10)"
   ]
  },
  {
   "cell_type": "code",
   "execution_count": 140,
   "id": "6caa1289-087e-4ff3-99ee-441791f26e07",
   "metadata": {},
   "outputs": [
    {
     "name": "stdout",
     "output_type": "stream",
     "text": [
      "0\n",
      "1\n",
      "2\n",
      "3\n",
      "4\n",
      "5\n",
      "6\n",
      "7\n",
      "8\n",
      "9\n"
     ]
    }
   ],
   "source": [
    "for i in lazy_range(10):\n",
    "    print(i)\n"
   ]
  },
  {
   "cell_type": "markdown",
   "id": "0e6cde24-ffba-4e1b-a57b-9df36adcfda9",
   "metadata": {},
   "source": [
    "lazy_range() method without a break\n",
    "```\n",
    "def natural_numbers():\n",
    "    \"\"\"returns 1, 2, 3, ...\"\"\"\n",
    "    n = 1\n",
    "    while True:\n",
    "        yield n\n",
    "        n += 1```"
   ]
  },
  {
   "cell_type": "markdown",
   "id": "cdf6c060-05a9-4103-a740-3b6681853993",
   "metadata": {},
   "source": [
    "Generator Comprehension"
   ]
  },
  {
   "cell_type": "code",
   "execution_count": 153,
   "id": "351a82ea-272f-428f-956d-0a696f030a02",
   "metadata": {},
   "outputs": [
    {
     "data": {
      "text/plain": [
       "<generator object <genexpr> at 0x0000028C49ABF370>"
      ]
     },
     "execution_count": 153,
     "metadata": {},
     "output_type": "execute_result"
    }
   ],
   "source": [
    "lazy_evens_below_20 = (i for i in lazy_range(20) if i % 2 == 0) # you can use range() method \n",
    "lazy_evens_below_20"
   ]
  },
  {
   "cell_type": "markdown",
   "id": "9e6f5fad-b466-4704-8cbe-8157dcba8a82",
   "metadata": {},
   "source": [
    "### Randomness"
   ]
  },
  {
   "cell_type": "code",
   "execution_count": 158,
   "id": "eef85627-35a8-453f-bc1c-a58f6a4bd320",
   "metadata": {},
   "outputs": [
    {
     "data": {
      "text/plain": [
       "[0.8837689129270601,\n",
       " 0.6398354190529598,\n",
       " 0.04016322418786866,\n",
       " 0.6084335548689592]"
      ]
     },
     "execution_count": 158,
     "metadata": {},
     "output_type": "execute_result"
    }
   ],
   "source": [
    "import random\n",
    "four_uniform_randoms = [random.random() for _ in range(4)]\n",
    "four_uniform_randoms"
   ]
  },
  {
   "cell_type": "code",
   "execution_count": 162,
   "id": "477194ff-a6b1-4495-b880-517b3fbf66b3",
   "metadata": {},
   "outputs": [
    {
     "name": "stdout",
     "output_type": "stream",
     "text": [
      "0.5714025946899135\n",
      "0.5714025946899135\n"
     ]
    }
   ],
   "source": [
    "random.seed(10) # set the seed to 10\n",
    "print (random.random()) # 0.57140259469\n",
    "random.seed(10) # reset the seed to 10\n",
    "print (random.random()) "
   ]
  },
  {
   "cell_type": "code",
   "execution_count": 170,
   "id": "b99afea3-b508-48d2-a33e-cfe9443d584b",
   "metadata": {},
   "outputs": [
    {
     "data": {
      "text/plain": [
       "3"
      ]
     },
     "execution_count": 170,
     "metadata": {},
     "output_type": "execute_result"
    }
   ],
   "source": [
    "random.randrange(10) # choose randomly from range(10) = [0, 1, ..., 9]"
   ]
  },
  {
   "cell_type": "code",
   "execution_count": 166,
   "id": "a3ed6024-9523-49ca-bee8-0617db0d9e3a",
   "metadata": {},
   "outputs": [
    {
     "data": {
      "text/plain": [
       "5"
      ]
     },
     "execution_count": 166,
     "metadata": {},
     "output_type": "execute_result"
    }
   ],
   "source": [
    "random.randrange(3, 6) # choose randomly from range(3, 6) = [3, 4, 5]"
   ]
  },
  {
   "cell_type": "code",
   "execution_count": 176,
   "id": "ecb5e159-3533-464a-a413-d327d1512c4d",
   "metadata": {},
   "outputs": [
    {
     "name": "stdout",
     "output_type": "stream",
     "text": [
      "[8, 3, 9, 2, 4, 1, 7, 6, 0, 5]\n"
     ]
    }
   ],
   "source": [
    "up_to_ten = [_ for _ in range(10)] \n",
    "random.shuffle(up_to_ten)\n",
    "print (up_to_ten)\n",
    "# [2, 5, 1, 9, 7, 3, 8, 6, 4, 0] (your results will probably be different)"
   ]
  },
  {
   "cell_type": "code",
   "execution_count": 180,
   "id": "1e85f353-7770-4142-bd26-bf5b597b08a2",
   "metadata": {},
   "outputs": [
    {
     "data": {
      "text/plain": [
       "'Charlie'"
      ]
     },
     "execution_count": 180,
     "metadata": {},
     "output_type": "execute_result"
    }
   ],
   "source": [
    "my_best_friend = random.choice([\"Alice\", \"Bob\", \"Charlie\"]) # \"Bob\" for me\n",
    "my_best_friend"
   ]
  },
  {
   "cell_type": "code",
   "execution_count": 193,
   "id": "aa7226f4-063c-4918-a9fa-a80c93763f5f",
   "metadata": {},
   "outputs": [
    {
     "data": {
      "text/plain": [
       "[37, 0, 15, 8, 12, 19]"
      ]
     },
     "execution_count": 193,
     "metadata": {},
     "output_type": "execute_result"
    }
   ],
   "source": [
    "lottery_numbers = [_ for _ in range(60)]\n",
    "winning_numbers = random.sample(lottery_numbers, 6) # [16, 36, 10, 6, 25, 9]\n",
    "winning_numbers # sample list from lottery_numbers"
   ]
  },
  {
   "cell_type": "code",
   "execution_count": 195,
   "id": "e6b92caf-116c-407b-9685-4e27f96ef2ae",
   "metadata": {},
   "outputs": [
    {
     "data": {
      "text/plain": [
       "[8, 5, 3, 5]"
      ]
     },
     "execution_count": 195,
     "metadata": {},
     "output_type": "execute_result"
    }
   ],
   "source": [
    "four_with_replacement = [random.choice(range(10)) for _ in range(4)]\n",
    "four_with_replacement"
   ]
  },
  {
   "cell_type": "markdown",
   "id": "50e970c0-6011-4cc4-ac7c-ef2ab1f0742e",
   "metadata": {},
   "source": [
    "### Regular Expressions"
   ]
  },
  {
   "cell_type": "code",
   "execution_count": 198,
   "id": "2b17f18d-cfef-4263-a1ee-4e03f058ab9f",
   "metadata": {},
   "outputs": [
    {
     "name": "stdout",
     "output_type": "stream",
     "text": [
      "True\n"
     ]
    }
   ],
   "source": [
    "import re\n",
    "print (all([ # all of these are true, because\n",
    " not re.match(\"a\", \"cat\"), # * 'cat' doesn't start with 'a'\n",
    " re.search(\"a\", \"cat\"), # * 'cat' has an 'a' in it\n",
    " not re.search(\"c\", \"dog\"), # * 'dog' doesn't have a 'c' in it\n",
    " 3 == len(re.split(\"[ab]\", \"carbs\")), # * split on a or b to ['c','r','s']\n",
    " \"R-D-\" == re.sub(\"[0-9]\", \"-\", \"R2D2\") # * replace digits with dashes\n",
    " ])) # prints True"
   ]
  },
  {
   "cell_type": "markdown",
   "id": "1687748a-009e-4b53-836b-c68d8cf6de27",
   "metadata": {},
   "source": [
    "### Object-Oriented Programming"
   ]
  },
  {
   "cell_type": "code",
   "execution_count": 207,
   "id": "f205da8e-8428-4c69-855f-f3df730a5ff6",
   "metadata": {},
   "outputs": [
    {
     "name": "stdout",
     "output_type": "stream",
     "text": [
      "True\n",
      "False\n"
     ]
    }
   ],
   "source": [
    "# by convention, we give classes PascalCase names\n",
    "class Set:\n",
    " # these are the member functions\n",
    " # every one takes a first parameter \"self\" (another convention)\n",
    " # that refers to the particular Set object being used\n",
    "    def __init__(self, values=None):\n",
    "        \"\"\"This is the constructor.\n",
    "        It gets called when you create a new Set.\n",
    "        You would use it like\n",
    "        s1 = Set() # empty set\n",
    "        s2 = Set([1,2,2,3]) # initialize with values\"\"\"\n",
    "        self.dict = {} # each instance of Set has its own dict property\n",
    "                       # which is what we'll use to track memberships\n",
    "        if values is not None:\n",
    "            for value in values:\n",
    "                self.add(value)\n",
    "            \n",
    "    def __repr__(self):\n",
    "        \"\"\"this is the string representation of a Set object\n",
    "        if you type it at the Python prompt or pass it to str()\"\"\"\n",
    "        return \"Set: \" + str(self.dict.keys())\n",
    "    \n",
    "    # we'll represent membership by being a key in self.dict with value True\n",
    "    def add(self, value):\n",
    "        self.dict[value] = True\n",
    "    \n",
    "    # value is in the Set if it's a key in the dictionary\n",
    "    def contains(self, value):\n",
    "        return value in self.dict\n",
    "    \n",
    "    def remove(self, value):\n",
    "        del self.dict[value]\n",
    "\n",
    "s = Set([1,2,3])\n",
    "s.add(4)\n",
    "print (s.contains(4)) # True\n",
    "s.remove(3)\n",
    "print (s.contains(3)) # False"
   ]
  },
  {
   "cell_type": "code",
   "execution_count": null,
   "id": "e6d4c429-85f4-4c2f-8cb7-9196d8d8549c",
   "metadata": {},
   "outputs": [],
   "source": []
  }
 ],
 "metadata": {
  "kernelspec": {
   "display_name": "Python [conda env:base] *",
   "language": "python",
   "name": "conda-base-py"
  },
  "language_info": {
   "codemirror_mode": {
    "name": "ipython",
    "version": 3
   },
   "file_extension": ".py",
   "mimetype": "text/x-python",
   "name": "python",
   "nbconvert_exporter": "python",
   "pygments_lexer": "ipython3",
   "version": "3.12.7"
  }
 },
 "nbformat": 4,
 "nbformat_minor": 5
}
