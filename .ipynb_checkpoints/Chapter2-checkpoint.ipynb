{
 "cells": [
  {
   "cell_type": "markdown",
   "id": "4b5d8f1f-a5f7-47f8-9cbb-5063895917e4",
   "metadata": {
    "jp-MarkdownHeadingCollapsed": true
   },
   "source": [
    "### Whitespace Formatting"
   ]
  },
  {
   "cell_type": "code",
   "execution_count": 8,
   "id": "95a561be-6ce5-4469-ae86-b93bbcb2cde0",
   "metadata": {},
   "outputs": [
    {
     "name": "stdout",
     "output_type": "stream",
     "text": [
      "1\n",
      "1\n",
      "2\n",
      "2\n",
      "3\n",
      "3\n",
      "4\n",
      "4\n",
      "5\n",
      "5\n",
      "6\n",
      "1\n",
      "2\n",
      "1\n",
      "3\n",
      "2\n",
      "4\n",
      "3\n",
      "5\n",
      "4\n",
      "6\n",
      "5\n",
      "7\n",
      "2\n",
      "3\n",
      "1\n",
      "4\n",
      "2\n",
      "5\n",
      "3\n",
      "6\n",
      "4\n",
      "7\n",
      "5\n",
      "8\n",
      "3\n",
      "4\n",
      "1\n",
      "5\n",
      "2\n",
      "6\n",
      "3\n",
      "7\n",
      "4\n",
      "8\n",
      "5\n",
      "9\n",
      "4\n",
      "5\n",
      "1\n",
      "6\n",
      "2\n",
      "7\n",
      "3\n",
      "8\n",
      "4\n",
      "9\n",
      "5\n",
      "10\n",
      "5\n",
      "done looping\n"
     ]
    }
   ],
   "source": [
    "for i in [1, 2, 3, 4, 5]:\n",
    "    print (i)\n",
    "    for j in [1, 2, 3, 4, 5]:\n",
    "        print (j)                 \n",
    "        print (i + j)             \n",
    "    print (i)\n",
    "print (\"done looping\")"
   ]
  },
  {
   "cell_type": "markdown",
   "id": "3623274d-1641-4a1c-9554-4d01564dfc74",
   "metadata": {},
   "source": [
    "##### Indentation is ignored inside parentheses and bracjets"
   ]
  },
  {
   "cell_type": "code",
   "execution_count": 12,
   "id": "6b05cf94-4f4e-495a-a5c0-1abb233c4264",
   "metadata": {},
   "outputs": [
    {
     "data": {
      "text/plain": [
       "210"
      ]
     },
     "execution_count": 12,
     "metadata": {},
     "output_type": "execute_result"
    }
   ],
   "source": [
    "long_winded_computation = (1 + 2 + 3 + 4 + 5 + 6 + 7 + 8 + 9 + 10 + 11 + 12 +\n",
    " 13 + 14 + 15 + 16 + 17 + 18 + 19 + 20)\n",
    "long_winded_computation"
   ]
  },
  {
   "cell_type": "code",
   "execution_count": 20,
   "id": "8481034d-347d-4ba8-9214-b75cb71ae2c0",
   "metadata": {},
   "outputs": [
    {
     "data": {
      "text/plain": [
       "[[1, 2, 3], [4, 5, 6], [7, 8, 9]]"
      ]
     },
     "execution_count": 20,
     "metadata": {},
     "output_type": "execute_result"
    }
   ],
   "source": [
    " list_of_lists = [[1, 2, 3], [4, 5, 6], [7, 8, 9]]\n",
    " easier_to_read_list_of_lists = [\n",
    "                                [1, 2, 3],\n",
    "                                [4, 5, 6],\n",
    "                                [7, 8, 9] ]\n",
    "list_of_lists\n",
    "easier_to_read_list_of_lists"
   ]
  },
  {
   "cell_type": "markdown",
   "id": "83119af3-0749-411e-87f1-9aed7849a7e8",
   "metadata": {},
   "source": [
    "##### Backslash is used to indicate that a statement continues onto the next line"
   ]
  },
  {
   "cell_type": "code",
   "execution_count": 24,
   "id": "e9644be3-62f5-4ae0-adec-d596870d7316",
   "metadata": {},
   "outputs": [
    {
     "data": {
      "text/plain": [
       "5"
      ]
     },
     "execution_count": 24,
     "metadata": {},
     "output_type": "execute_result"
    }
   ],
   "source": [
    "two_plus_three = 2 + \\\n",
    " 3\n",
    "two_plus_three"
   ]
  },
  {
   "cell_type": "markdown",
   "id": "599d5048-bc46-4ab3-b3b7-47a71ff83400",
   "metadata": {},
   "source": [
    "#### Note: One consequence of whitespace formatting is that it can be hard to copy and paste code into the Python shell. As you may get some INDENTATION ERROR"
   ]
  },
  {
   "cell_type": "markdown",
   "id": "4ce4a396-1491-4fc7-8512-23b312b293c4",
   "metadata": {
    "jp-MarkdownHeadingCollapsed": true
   },
   "source": [
    "### Modules"
   ]
  },
  {
   "cell_type": "code",
   "execution_count": 41,
   "id": "66783c25-7733-4280-88b6-d142a536b2d6",
   "metadata": {},
   "outputs": [
    {
     "data": {
      "text/plain": [
       "re.compile(r'[0-9]', re.IGNORECASE|re.UNICODE)"
      ]
     },
     "execution_count": 41,
     "metadata": {},
     "output_type": "execute_result"
    }
   ],
   "source": [
    "import re\n",
    "my_regex = re.compile(\"[0-9]\", re.I)"
   ]
  },
  {
   "cell_type": "markdown",
   "id": "2c55814a-e450-4e4e-8ad0-878889060420",
   "metadata": {},
   "source": [
    "Or you can used an alias"
   ]
  },
  {
   "cell_type": "code",
   "execution_count": 44,
   "id": "691a8045-f59d-4222-bf6a-335d96b9f855",
   "metadata": {},
   "outputs": [],
   "source": [
    "import re as regex\n",
    "my_regex = regex.compile(\"[0-9]\", re.I)"
   ]
  },
  {
   "cell_type": "markdown",
   "id": "5d6626c0-8971-4b0b-ab55-8c3cf2987fc7",
   "metadata": {},
   "source": [
    "Or to use standard conventions for popular libraries like ```matplotlib```"
   ]
  },
  {
   "cell_type": "code",
   "execution_count": 47,
   "id": "ef2e9cb6-6b19-4b30-904a-2fdf614ae7b3",
   "metadata": {},
   "outputs": [],
   "source": [
    "import matplotlib.pyplot as plt"
   ]
  },
  {
   "cell_type": "markdown",
   "id": "9ade1bde-9841-4871-9dbd-de613d3064d0",
   "metadata": {},
   "source": [
    "If you need specific values from a module you can use ```from``` statement"
   ]
  },
  {
   "cell_type": "code",
   "execution_count": 54,
   "id": "88b1944e-3d11-4811-9961-cd4df92dcff8",
   "metadata": {},
   "outputs": [],
   "source": [
    "from collections import defaultdict, Counter\n",
    "lookup = defaultdict(int)\n",
    "my_counter = Counter()"
   ]
  },
  {
   "cell_type": "markdown",
   "id": "b2aa83a3-eb9e-4bf0-9957-49de75ea6856",
   "metadata": {},
   "source": [
    "To import entire module you can you the ```*``` statement\n",
    "Use this if you are a bad person"
   ]
  },
  {
   "cell_type": "code",
   "execution_count": 61,
   "id": "4c77028f-6042-450f-9463-80b1b5d0ee2a",
   "metadata": {},
   "outputs": [
    {
     "name": "stdout",
     "output_type": "stream",
     "text": [
      "<function match at 0x00000146D36C6840>\n"
     ]
    }
   ],
   "source": [
    "match = 10\n",
    "from re import *\n",
    "print(match)"
   ]
  },
  {
   "cell_type": "markdown",
   "id": "e9fdc6f3-dece-478f-8f67-f808955fd826",
   "metadata": {
    "jp-MarkdownHeadingCollapsed": true
   },
   "source": [
    "### Arithmetic"
   ]
  },
  {
   "cell_type": "markdown",
   "id": "96c30195-c150-43da-a7dd-4c180dee0d78",
   "metadata": {},
   "source": [
    "Python uses integere division by default\n",
    "So, 5 / 2 = 2. This is what we dont want so \n",
    "we start our files with"
   ]
  },
  {
   "cell_type": "code",
   "execution_count": 65,
   "id": "a248233c-2724-40e3-9386-29579fe2e1ae",
   "metadata": {},
   "outputs": [],
   "source": [
    "from __future__ import division"
   ]
  },
  {
   "cell_type": "markdown",
   "id": "75e67941-ea17-43a0-bbc1-680f3d69d8cc",
   "metadata": {},
   "source": [
    "This gives us 5 / 2 = 2.5\n",
    "And if we need integer division we can do it using double slash ```5 // 2```"
   ]
  },
  {
   "cell_type": "markdown",
   "id": "ed735b49-2a69-4288-98a3-433fec531e11",
   "metadata": {
    "jp-MarkdownHeadingCollapsed": true
   },
   "source": [
    "### Functions"
   ]
  },
  {
   "cell_type": "markdown",
   "id": "73ce4570-cec2-475d-9bf8-4fa87c37bd7e",
   "metadata": {},
   "source": [
    "Functions in Python are defined using keyword ```def```"
   ]
  },
  {
   "cell_type": "code",
   "execution_count": 71,
   "id": "e09a8306-073a-402d-be0b-329dbd985764",
   "metadata": {},
   "outputs": [],
   "source": [
    "def double(x):\n",
    "    return x * 2"
   ]
  },
  {
   "cell_type": "markdown",
   "id": "9dda7b3f-b206-4b18-845d-5528902a35d0",
   "metadata": {},
   "source": [
    "Python functions can be assigned to variable and pass them to functions just like any other arguments"
   ]
  },
  {
   "cell_type": "code",
   "execution_count": 88,
   "id": "c6fe1830-255a-488e-96d6-ba2edd82c895",
   "metadata": {},
   "outputs": [
    {
     "data": {
      "text/plain": [
       "2"
      ]
     },
     "execution_count": 88,
     "metadata": {},
     "output_type": "execute_result"
    }
   ],
   "source": [
    "def apply_to_one(f):\n",
    "    return f(1)\n",
    "\n",
    "my_double = double\n",
    "x = apply_to_one(my_double)\n",
    "x"
   ]
  },
  {
   "cell_type": "markdown",
   "id": "7d3ca5a8-c158-4a0d-b44d-be7783b1d8a1",
   "metadata": {},
   "source": [
    "Creating anonymous functions (lambdas)"
   ]
  },
  {
   "cell_type": "code",
   "execution_count": 91,
   "id": "afcc38cd-9c10-489e-b85c-cda046c0f49c",
   "metadata": {},
   "outputs": [
    {
     "data": {
      "text/plain": [
       "5"
      ]
     },
     "execution_count": 91,
     "metadata": {},
     "output_type": "execute_result"
    }
   ],
   "source": [
    "y = apply_to_one(lambda x: x+4)\n",
    "y"
   ]
  },
  {
   "cell_type": "markdown",
   "id": "52cfdec4-3193-47ac-8371-36bedd73e116",
   "metadata": {},
   "source": [
    "def function is >>> lambda function"
   ]
  },
  {
   "cell_type": "code",
   "execution_count": 94,
   "id": "2db9ddec-51e4-4c4c-9edc-5bf37e9aa449",
   "metadata": {},
   "outputs": [],
   "source": [
    "another_double = lambda x: 2 * x # dont do this\n",
    "def another_double(x): return 2 * x # dot this instead"
   ]
  },
  {
   "cell_type": "markdown",
   "id": "45530a8c-47ed-4281-bcc2-1f2c3799722a",
   "metadata": {},
   "source": [
    "Functions with parameters can also be given default parameters"
   ]
  },
  {
   "cell_type": "code",
   "execution_count": 101,
   "id": "342cb2cb-4683-4cfb-b2e7-8e84266f04f3",
   "metadata": {},
   "outputs": [
    {
     "name": "stdout",
     "output_type": "stream",
     "text": [
      "Hello\n",
      "my default message\n"
     ]
    }
   ],
   "source": [
    "def my_print(message = \"my default message\"):\n",
    "    print(message)\n",
    "\n",
    "my_print(\"Hello\")\n",
    "my_print()"
   ]
  },
  {
   "cell_type": "code",
   "execution_count": 103,
   "id": "151c5560-f3f4-4158-ae26-02cde5c8cb5a",
   "metadata": {},
   "outputs": [
    {
     "data": {
      "text/plain": [
       "-5"
      ]
     },
     "execution_count": 103,
     "metadata": {},
     "output_type": "execute_result"
    }
   ],
   "source": [
    "def subtract(a=0, b=0):\n",
    "     return a - b\n",
    "subtract(10, 5) # returns 5\n",
    "subtract(0, 5)  # returns -5\n",
    "subtract(b=5)   # same as previou"
   ]
  },
  {
   "cell_type": "markdown",
   "id": "fd5d38a2-dacf-435f-b52c-fed0e9e06067",
   "metadata": {
    "jp-MarkdownHeadingCollapsed": true
   },
   "source": [
    "### Strings"
   ]
  },
  {
   "cell_type": "markdown",
   "id": "3735a1b7-8965-42dc-8de7-bdcdd1289034",
   "metadata": {},
   "source": [
    "Strings are delimited by single or double quotation marks"
   ]
  },
  {
   "cell_type": "code",
   "execution_count": 110,
   "id": "20505c68-60c1-49a4-98c7-34ad13a96308",
   "metadata": {},
   "outputs": [
    {
     "data": {
      "text/plain": [
       "'data science'"
      ]
     },
     "execution_count": 110,
     "metadata": {},
     "output_type": "execute_result"
    }
   ],
   "source": [
    "single_quoted_string = 'data science'\n",
    "double_quoted_string = \"data science\"\n",
    "single_quoted_string\n",
    "double_quoted_string"
   ]
  },
  {
   "cell_type": "markdown",
   "id": "b6eec142-535e-48dd-8e83-e5310fd78c5b",
   "metadata": {},
   "source": [
    "Python uses backslashes to encode special characters"
   ]
  },
  {
   "cell_type": "code",
   "execution_count": 118,
   "id": "79e518fb-e4ee-450b-afc5-9a2fdfa9f3b2",
   "metadata": {},
   "outputs": [
    {
     "data": {
      "text/plain": [
       "'\\t'"
      ]
     },
     "execution_count": 118,
     "metadata": {},
     "output_type": "execute_result"
    }
   ],
   "source": [
    "tab_string = \"\\t\"       \n",
    "len(tab_string)\n",
    "tab_string"
   ]
  },
  {
   "cell_type": "markdown",
   "id": "3bc34d08-c3a4-40d5-96c2-386fdcefb985",
   "metadata": {},
   "source": [
    "If you need backslash as backslash you can you can create raw string using ```r\"\"```"
   ]
  },
  {
   "cell_type": "code",
   "execution_count": 116,
   "id": "afc1e9ff-31ff-435c-b357-8da7ab53bf3f",
   "metadata": {},
   "outputs": [
    {
     "data": {
      "text/plain": [
       "'\\\\t'"
      ]
     },
     "execution_count": 116,
     "metadata": {},
     "output_type": "execute_result"
    }
   ],
   "source": [
    "not_tab_string = r\"\\t\"\n",
    "len(not_tab_string)\n",
    "not_tab_string"
   ]
  },
  {
   "cell_type": "markdown",
   "id": "74bd2054-a92c-4363-9cc1-368dd3ce4b5e",
   "metadata": {},
   "source": [
    "To create multiline string you can use triple quatation marks ```\"\"\"Strings\"\"\"```"
   ]
  },
  {
   "cell_type": "code",
   "execution_count": 123,
   "id": "68177823-2b0d-45c7-9c10-cdd6dad03e94",
   "metadata": {},
   "outputs": [
    {
     "data": {
      "text/plain": [
       "'This is the first line.\\n and this is the second line\\n and this is the third line'"
      ]
     },
     "execution_count": 123,
     "metadata": {},
     "output_type": "execute_result"
    }
   ],
   "source": [
    "multi_line_string = \"\"\"This is the first line.\n",
    " and this is the second line\n",
    " and this is the third line\"\"\"\n",
    "multi_line_string"
   ]
  },
  {
   "cell_type": "markdown",
   "id": "e3798422-309d-406a-9927-752b33f1b1a8",
   "metadata": {
    "jp-MarkdownHeadingCollapsed": true
   },
   "source": [
    "### Exceptions"
   ]
  },
  {
   "cell_type": "markdown",
   "id": "711e517d-f70a-4f79-bf05-64fc004d6cb1",
   "metadata": {},
   "source": [
    "Exceptions in python is handle by using ```try``` and ```catch``` statements"
   ]
  },
  {
   "cell_type": "code",
   "execution_count": 129,
   "id": "61c91cbc-8dbe-4655-8aa7-eb837e9a9dab",
   "metadata": {},
   "outputs": [
    {
     "name": "stdout",
     "output_type": "stream",
     "text": [
      "cannot divide by zero\n"
     ]
    }
   ],
   "source": [
    " try:\n",
    "     print( 0 / 0)\n",
    " except ZeroDivisionError:\n",
    "     print (\"cannot divide by zero\")"
   ]
  },
  {
   "cell_type": "markdown",
   "id": "33198d0e-daef-49ee-9083-2db989e2e2fa",
   "metadata": {},
   "source": [
    "### Lists"
   ]
  },
  {
   "cell_type": "code",
   "execution_count": 134,
   "id": "463c199a-7f4f-4dc2-a7ed-d4ab24d4b711",
   "metadata": {},
   "outputs": [],
   "source": [
    "integer_list = [1, 2, 3]\n",
    "heterogeneous_list = [\"string\", 0.1, True]\n",
    "list_of_lists = [ integer_list, heterogeneous_list, [] ]\n",
    "\n",
    "list_length = len(integer_list) # equals 3     \n",
    "list_sum = sum(integer_list)     # equals 6 "
   ]
  },
  {
   "cell_type": "markdown",
   "id": "47bd909a-8bdb-47c9-8e05-c1e90e350670",
   "metadata": {},
   "source": [
    " You can get or set the nth element of a list with square brackets:"
   ]
  },
  {
   "cell_type": "code",
   "execution_count": 139,
   "id": "ec59b614-ec12-461a-8d12-60bfe02be761",
   "metadata": {},
   "outputs": [],
   "source": [
    "x = list(range(10))   # is the list [0, 1, ..., 9]\n",
    "zero = x[0]     # equals 0, lists are 0-indexed\n",
    "one = x[1]      # equals 1\n",
    "nine = x[-1]    # equals 9, 'Pythonic' for last element\n",
    "eight = x[-2]   # equals 8, 'Pythonic' for next-to-last element\n",
    "x[0] = -1       # now x is [-1, 1, 2, 3, ..., 9]"
   ]
  },
  {
   "cell_type": "markdown",
   "id": "fbc2ae42-2268-462a-ae6c-e48450c5dc9f",
   "metadata": {},
   "source": [
    " You can also use square brackets to “slice” lists:"
   ]
  },
  {
   "cell_type": "code",
   "execution_count": 144,
   "id": "32fa1841-95b5-4a7e-8dba-d84fc28f0ae2",
   "metadata": {},
   "outputs": [],
   "source": [
    "first_three   = x[:3]   # [-1, 1, 2]            \n",
    "three_to_end = x[3:]     # [3, 4, ..., 9]            \n",
    "one_to_four = x[1:5]      # [1, 2, 3, 4]        \n",
    "last_three = x[-3:]         # [7, 8, 9]        \n",
    "without_first_and_last = x[1:-1]     # [1, 2, ..., 8] \n",
    "copy_of_x = x[:]                  # [-1, 1, 2, ..., 9]  "
   ]
  },
  {
   "cell_type": "markdown",
   "id": "089255e9-61f8-4629-a53d-fa9c9337ef9a",
   "metadata": {},
   "source": [
    "Python has an in operator to check for list membership:"
   ]
  },
  {
   "cell_type": "code",
   "execution_count": 147,
   "id": "58d919df-e188-4fbe-bc43-652edfe32d21",
   "metadata": {},
   "outputs": [
    {
     "data": {
      "text/plain": [
       "False"
      ]
     },
     "execution_count": 147,
     "metadata": {},
     "output_type": "execute_result"
    }
   ],
   "source": [
    "1 in [1, 2, 3]    # True\n",
    "0 in [1, 2, 3]    # False"
   ]
  },
  {
   "cell_type": "markdown",
   "id": "cf50f7aa-3adf-4d9d-96c4-aff0406174e1",
   "metadata": {},
   "source": [
    "Concatenate lists"
   ]
  },
  {
   "cell_type": "code",
   "execution_count": 152,
   "id": "1c8b2908-5445-49d0-bec8-e56a6e6ef825",
   "metadata": {},
   "outputs": [
    {
     "data": {
      "text/plain": [
       "[1, 2, 3, 4, 5, 6]"
      ]
     },
     "execution_count": 152,
     "metadata": {},
     "output_type": "execute_result"
    }
   ],
   "source": [
    "x = [1,2,3]\n",
    "x.extend([4,5,6])\n",
    "x"
   ]
  },
  {
   "cell_type": "markdown",
   "id": "db362a16-49cf-4500-89ef-c132f82324f1",
   "metadata": {},
   "source": [
    "Modity Lists"
   ]
  },
  {
   "cell_type": "code",
   "execution_count": 155,
   "id": "e76e5777-880f-42ac-8b7d-9398b3597ca1",
   "metadata": {},
   "outputs": [
    {
     "data": {
      "text/plain": [
       "[1, 2, 3, 4, 5, 6, 7, 8, 9]"
      ]
     },
     "execution_count": 155,
     "metadata": {},
     "output_type": "execute_result"
    }
   ],
   "source": [
    "y = x + [7,8,9]\n",
    "y"
   ]
  },
  {
   "cell_type": "markdown",
   "id": "45c00806-b096-483f-b56a-81f96f181f0f",
   "metadata": {},
   "source": [
    "To add one item at a time ```append``` method of list is used"
   ]
  },
  {
   "cell_type": "code",
   "execution_count": 162,
   "id": "490c1f92-aa54-4f72-837f-20ba0209f99e",
   "metadata": {},
   "outputs": [
    {
     "data": {
      "text/plain": [
       "[1, 2, 3, 4, 5, 6, 7, 7, 8]"
      ]
     },
     "execution_count": 162,
     "metadata": {},
     "output_type": "execute_result"
    }
   ],
   "source": [
    "x.append(8)\n",
    "x"
   ]
  },
  {
   "cell_type": "code",
   "execution_count": 166,
   "id": "27f56a37-f897-40da-acbf-500efae34c68",
   "metadata": {},
   "outputs": [
    {
     "data": {
      "text/plain": [
       "8"
      ]
     },
     "execution_count": 166,
     "metadata": {},
     "output_type": "execute_result"
    }
   ],
   "source": [
    "y = x[-1] # extracting last element of x list and assigning to y\n",
    "y"
   ]
  },
  {
   "cell_type": "code",
   "execution_count": 170,
   "id": "dd772092-6b4f-4ad6-a2fb-1a0b0ebb8ac7",
   "metadata": {},
   "outputs": [
    {
     "data": {
      "text/plain": [
       "9"
      ]
     },
     "execution_count": 170,
     "metadata": {},
     "output_type": "execute_result"
    }
   ],
   "source": [
    "z = len(x) # extracting the size of x and assigning to z\n",
    "z"
   ]
  },
  {
   "cell_type": "code",
   "execution_count": 176,
   "id": "4b68c5f9-5c3f-4a4c-ab88-8f839ad6b296",
   "metadata": {},
   "outputs": [
    {
     "data": {
      "text/plain": [
       "(1, 2)"
      ]
     },
     "execution_count": 176,
     "metadata": {},
     "output_type": "execute_result"
    }
   ],
   "source": [
    " x, y = [1, 2] # assigning values to x and y using list \n",
    "# it is only possible if the size of variables == size of list\n",
    "x,y"
   ]
  },
  {
   "cell_type": "markdown",
   "id": "93ea5b3e-5ea4-41d2-883b-b7a1047eb485",
   "metadata": {},
   "source": [
    "To throw away values you can use the underscores sign ```_```"
   ]
  },
  {
   "cell_type": "code",
   "execution_count": 181,
   "id": "93de3a5e-09b9-4395-8338-2130d32f9e58",
   "metadata": {},
   "outputs": [
    {
     "data": {
      "text/plain": [
       "2"
      ]
     },
     "execution_count": 181,
     "metadata": {},
     "output_type": "execute_result"
    }
   ],
   "source": [
    " _, y = [1, 2]\n",
    "y \n",
    "# it ignores the value of _"
   ]
  },
  {
   "cell_type": "markdown",
   "id": "e87fc167-8a4a-4741-937e-dfb222929141",
   "metadata": {},
   "source": [
    "### Tuples"
   ]
  },
  {
   "cell_type": "code",
   "execution_count": null,
   "id": "bdd66c21-f02c-4a04-9082-573b9d81c3f9",
   "metadata": {},
   "outputs": [],
   "source": []
  }
 ],
 "metadata": {
  "kernelspec": {
   "display_name": "Python [conda env:base] *",
   "language": "python",
   "name": "conda-base-py"
  },
  "language_info": {
   "codemirror_mode": {
    "name": "ipython",
    "version": 3
   },
   "file_extension": ".py",
   "mimetype": "text/x-python",
   "name": "python",
   "nbconvert_exporter": "python",
   "pygments_lexer": "ipython3",
   "version": "3.12.7"
  }
 },
 "nbformat": 4,
 "nbformat_minor": 5
}
